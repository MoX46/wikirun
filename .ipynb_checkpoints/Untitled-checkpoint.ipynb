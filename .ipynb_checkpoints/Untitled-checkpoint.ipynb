{
 "cells": [
  {
   "cell_type": "code",
   "execution_count": 2,
   "id": "b633dc4a-944d-4c31-97a1-02b85f73c6af",
   "metadata": {},
   "outputs": [],
   "source": [
    "import requests\n",
    "import json\n",
    "from datetime import date, timedelta\n",
    "from random import randint\n",
    "\n",
    "def get_random_date():\n",
    "    min_date = date(2016,1,1)\n",
    "    max_date = date.today()\n",
    "    delta = timedelta(days = randint(0, (max_date - min_date).days - max_date.day - 1))\n",
    "    rand_date = min_date + delta\n",
    "    return {'year':rand_date.strftime('%Y'), 'month':rand_date.strftime('%m')}"
   ]
  },
  {
   "cell_type": "code",
   "execution_count": null,
   "id": "a4bd0d69-a7de-4736-afdc-ebbe98bf5fac",
   "metadata": {},
   "outputs": [],
   "source": []
  }
 ],
 "metadata": {
  "kernelspec": {
   "display_name": "Python 3 (ipykernel)",
   "language": "python",
   "name": "python3"
  },
  "language_info": {
   "codemirror_mode": {
    "name": "ipython",
    "version": 3
   },
   "file_extension": ".py",
   "mimetype": "text/x-python",
   "name": "python",
   "nbconvert_exporter": "python",
   "pygments_lexer": "ipython3",
   "version": "3.8.10"
  }
 },
 "nbformat": 4,
 "nbformat_minor": 5
}
