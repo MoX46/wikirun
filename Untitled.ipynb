{
 "cells": [
  {
   "cell_type": "code",
   "execution_count": 335,
   "id": "b633dc4a-944d-4c31-97a1-02b85f73c6af",
   "metadata": {},
   "outputs": [],
   "source": [
    "import requests\n",
    "import json\n",
    "from datetime import date, timedelta\n",
    "from random import randint\n",
    "import re\n",
    "\n",
    "def get_random_date():\n",
    "    min_date = date(2016,1,1)\n",
    "    max_date = date.today()\n",
    "    delta = timedelta(days = randint(0, (max_date - min_date).days - max_date.day - 1))\n",
    "    rand_date = min_date + delta\n",
    "    return {'year':rand_date.strftime('%Y'), 'month':rand_date.strftime('%m')}\n",
    "\n",
    "def next_article(articles):\n",
    "    blacklist = ['Main_Page','^(.+):']\n",
    "    # bl = ['Portal:','Special:','File:','Wikipedia:','User:']\n",
    "    target_article = articles[randint(0, len(articles))]\n",
    "    print('target_article:', target_article['article'])\n",
    "    for re_pattern in blacklist:\n",
    "        print(re_pattern)\n",
    "        if re.search(re_pattern, target_article['article']):\n",
    "            ret = next_article(articles)\n",
    "            print('Match for:', target_article['article'])\n",
    "        else:\n",
    "            ret = target_article \n",
    "    return ret"
   ]
  },
  {
   "cell_type": "code",
   "execution_count": 336,
   "id": "a4bd0d69-a7de-4736-afdc-ebbe98bf5fac",
   "metadata": {},
   "outputs": [],
   "source": [
    "headers = {'User-Agent':'wikirn/0.1','accept':'application/json'}\n",
    "t_date = get_random_date()\n",
    "url = f'https://wikimedia.org/api/rest_v1/metrics/pageviews/top/en.wikipedia.org/all-access/{t_date[\"year\"]}/{t_date[\"month\"]}/all-days'\n",
    "res = requests.get(url, headers=headers)\n",
    "data = res.json()\n",
    "reg_pattern = '^(.+):'\n",
    "\n",
    "articles = data['items'][0]['articles']"
   ]
  },
  {
   "cell_type": "code",
   "execution_count": 361,
   "id": "af78c7db-f526-4d19-8292-e939e2102121",
   "metadata": {},
   "outputs": [
    {
     "name": "stdout",
     "output_type": "stream",
     "text": [
      "target_article: Rothschild_family\n",
      "Main_Page\n",
      "^(.+):\n",
      "{'article': 'Rothschild_family', 'views': 387845, 'rank': 476}\n"
     ]
    }
   ],
   "source": [
    "x = next_article(articles)\n",
    "print(x)"
   ]
  },
  {
   "cell_type": "code",
   "execution_count": 331,
   "id": "b72a8e20-a9cb-42fb-ad67-0cf7c05bf112",
   "metadata": {},
   "outputs": [
    {
     "name": "stdout",
     "output_type": "stream",
     "text": [
      "<re.Match object; span=(0, 5), match='User:'>\n"
     ]
    }
   ],
   "source": [
    "re_pattern = '^(.+):'\n",
    "x = re.search(re_pattern, 'User:GoogleAnalitycsRoman/google-api')\n",
    "print(x)"
   ]
  }
 ],
 "metadata": {
  "kernelspec": {
   "display_name": "Python 3 (ipykernel)",
   "language": "python",
   "name": "python3"
  },
  "language_info": {
   "codemirror_mode": {
    "name": "ipython",
    "version": 3
   },
   "file_extension": ".py",
   "mimetype": "text/x-python",
   "name": "python",
   "nbconvert_exporter": "python",
   "pygments_lexer": "ipython3",
   "version": "3.8.10"
  }
 },
 "nbformat": 4,
 "nbformat_minor": 5
}
